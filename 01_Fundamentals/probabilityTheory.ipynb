{
 "cells": [
  {
   "cell_type": "markdown",
   "metadata": {},
   "source": [
    "Exercise:  Coin Flips and Probability\n",
    "\n",
    "Scenario:  You flip a fair coin 3 times.\n",
    "\n",
    "    a) What is the sample space?\n",
    "    b) What is the probability of getting exactly two heads?\n",
    "    c) What is the probability of getting at least one tail?"
   ]
  },
  {
   "cell_type": "code",
   "execution_count": 1,
   "metadata": {},
   "outputs": [],
   "source": [
    "import itertools"
   ]
  },
  {
   "cell_type": "code",
   "execution_count": 2,
   "metadata": {},
   "outputs": [
    {
     "data": {
      "text/plain": [
       "[('H', 'H', 'H'),\n",
       " ('H', 'H', 'T'),\n",
       " ('H', 'T', 'H'),\n",
       " ('H', 'T', 'T'),\n",
       " ('T', 'H', 'H'),\n",
       " ('T', 'H', 'T'),\n",
       " ('T', 'T', 'H'),\n",
       " ('T', 'T', 'T')]"
      ]
     },
     "execution_count": 2,
     "metadata": {},
     "output_type": "execute_result"
    }
   ],
   "source": [
    "sample_space = list(itertools.product(['H','T'], repeat=3))\n",
    "sample_space"
   ]
  },
  {
   "cell_type": "code",
   "execution_count": 3,
   "metadata": {},
   "outputs": [
    {
     "data": {
      "text/plain": [
       "0.375"
      ]
     },
     "execution_count": 3,
     "metadata": {},
     "output_type": "execute_result"
    }
   ],
   "source": [
    "two_heads_outcomes = [outcome for outcome in sample_space if outcome.count('H') == 2]\n",
    "probability_two_heads = len(two_heads_outcomes) / len(sample_space)\n",
    "probability_two_heads"
   ]
  },
  {
   "cell_type": "code",
   "execution_count": 4,
   "metadata": {},
   "outputs": [
    {
     "name": "stdout",
     "output_type": "stream",
     "text": [
      "Probability of at least one tail: 0.875\n"
     ]
    }
   ],
   "source": [
    "at_least_one_tail_outcomes = [outcome for outcome in sample_space if 'T' in outcome]\n",
    "prob_at_least_one_tail = len(at_least_one_tail_outcomes) / len(sample_space)\n",
    "print(\"Probability of at least one tail:\", prob_at_least_one_tail)"
   ]
  },
  {
   "cell_type": "markdown",
   "metadata": {},
   "source": [
    "Scenario:  A disease affects 1% of the population. A test for the disease has a 90% accuracy rate (correctly identifies 90% of people with the disease) and a 5% false positive rate (incorrectly identifies 5% of healthy people as having the disease). If a person tests positive for the disease, what is the probability that they actually have the disease?"
   ]
  },
  {
   "cell_type": "code",
   "execution_count": 5,
   "metadata": {},
   "outputs": [
    {
     "name": "stdout",
     "output_type": "stream",
     "text": [
      "Probability of having the disease given a positive test: 0.15384615384615385\n"
     ]
    }
   ],
   "source": [
    "prior_disease = 0.01  \n",
    "prior_no_disease = 0.99 \n",
    "accuracy_rate = 0.90  # True positive rate\n",
    "false_positive_rate = 0.05\n",
    "\n",
    "# Calculate probability of testing positive\n",
    "prob_test_positive = (prior_disease * accuracy_rate) + (prior_no_disease * false_positive_rate)\n",
    "\n",
    "# Calculate probability of having the disease given a positive test (using Bayes' Theorem)\n",
    "prob_disease_given_positive = (accuracy_rate * prior_disease) / prob_test_positive\n",
    "\n",
    "print(\"Probability of having the disease given a positive test:\", prob_disease_given_positive) \n"
   ]
  }
 ],
 "metadata": {
  "kernelspec": {
   "display_name": "mlgrind-env",
   "language": "python",
   "name": "python3"
  },
  "language_info": {
   "codemirror_mode": {
    "name": "ipython",
    "version": 3
   },
   "file_extension": ".py",
   "mimetype": "text/x-python",
   "name": "python",
   "nbconvert_exporter": "python",
   "pygments_lexer": "ipython3",
   "version": "3.12.3"
  }
 },
 "nbformat": 4,
 "nbformat_minor": 2
}
