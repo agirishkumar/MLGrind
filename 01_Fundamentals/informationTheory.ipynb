{
 "cells": [
  {
   "cell_type": "markdown",
   "metadata": {},
   "source": [
    "Calculate the entropy of a fair coin flip."
   ]
  },
  {
   "cell_type": "code",
   "execution_count": 1,
   "metadata": {},
   "outputs": [
    {
     "name": "stdout",
     "output_type": "stream",
     "text": [
      "Entropy of a fair coin flip: 1.00 bits\n"
     ]
    }
   ],
   "source": [
    "import numpy as np\n",
    "from scipy.stats import entropy\n",
    "\n",
    "p = np.array([0.5, 0.5]) \n",
    "\n",
    "entropy_coin = entropy(p, base=2) \n",
    "\n",
    "print(f\"Entropy of a fair coin flip: {entropy_coin:.2f} bits\")"
   ]
  },
  {
   "cell_type": "markdown",
   "metadata": {},
   "source": [
    "Calculate the entropy of a biased coin flip where the probability of heads is 0.8."
   ]
  },
  {
   "cell_type": "code",
   "execution_count": 2,
   "metadata": {},
   "outputs": [
    {
     "name": "stdout",
     "output_type": "stream",
     "text": [
      "Entropy of a biased coin flip (p_heads = 0.8): 0.72 bits\n"
     ]
    }
   ],
   "source": [
    "p_biased = np.array([0.8, 0.2])\n",
    "\n",
    "entropy_biased_coin = entropy(p_biased, base=2)\n",
    "\n",
    "print(f\"Entropy of a biased coin flip (p_heads = 0.8): {entropy_biased_coin:.2f} bits\")"
   ]
  },
  {
   "cell_type": "markdown",
   "metadata": {},
   "source": [
    "Calculate the cross-entropy between the following two probability distributions:\n",
    "\n",
    "p = [0.2, 0.3, 0.5]\n",
    "q = [0.4, 0.3, 0.3]"
   ]
  },
  {
   "cell_type": "code",
   "execution_count": 3,
   "metadata": {},
   "outputs": [
    {
     "name": "stdout",
     "output_type": "stream",
     "text": [
      "Cross-entropy between p and q: 0.17 bits\n"
     ]
    }
   ],
   "source": [
    "p = np.array([0.2, 0.3, 0.5])\n",
    "q = np.array([0.4, 0.3, 0.3])\n",
    "\n",
    "cross_entropy_pq = entropy(p, q, base=2)\n",
    "\n",
    "print(f\"Cross-entropy between p and q: {cross_entropy_pq:.2f} bits\")"
   ]
  },
  {
   "cell_type": "markdown",
   "metadata": {},
   "source": [
    "Calculate the KL Divergence between the two probability distributions p = [0.2, 0.3, 0.5]\n",
    "q = [0.4, 0.3, 0.3]"
   ]
  },
  {
   "cell_type": "code",
   "execution_count": 4,
   "metadata": {},
   "outputs": [
    {
     "name": "stdout",
     "output_type": "stream",
     "text": [
      "KL Divergence between p and q: 0.12 bits\n"
     ]
    }
   ],
   "source": [
    "from scipy.special import rel_entr\n",
    "\n",
    "p = np.array([0.2, 0.3, 0.5])\n",
    "q = np.array([0.4, 0.3, 0.3])\n",
    "\n",
    "kl_divergence_pq = sum(rel_entr(p, q))  \n",
    "\n",
    "print(f\"KL Divergence between p and q: {kl_divergence_pq:.2f} bits\")"
   ]
  },
  {
   "cell_type": "markdown",
   "metadata": {},
   "source": [
    "Scenario: You have a dataset of student performance with two variables: \"hours_studied\" (continuous) and \"pass_exam\" (binary: 0 or 1).\n",
    "\n",
    "a) Discretize the \"hours_studied\" variable into bins (e.g., low, medium, high).\n",
    "b) Calculate the mutual information between the discretized \"hours_studied\" variable and \"pass_exam\"."
   ]
  },
  {
   "cell_type": "code",
   "execution_count": 5,
   "metadata": {},
   "outputs": [
    {
     "name": "stdout",
     "output_type": "stream",
     "text": [
      "Mutual Information: 0.48 bits\n"
     ]
    }
   ],
   "source": [
    "import pandas as pd\n",
    "from sklearn.metrics import mutual_info_score\n",
    "from sklearn.preprocessing import KBinsDiscretizer\n",
    "\n",
    "data = pd.DataFrame({'hours_studied': [1, 2, 3, 4, 5, 6, 7, 8, 9, 10], \n",
    "                     'pass_exam': [0, 0, 0, 1, 0, 1, 1, 1, 1, 1]})\n",
    "\n",
    "discretizer = KBinsDiscretizer(n_bins=3, encode='ordinal', strategy='uniform')\n",
    "data['hours_studied_binned'] = discretizer.fit_transform(data[['hours_studied']])\n",
    "\n",
    "# Calculate mutual information\n",
    "mutual_info = mutual_info_score(data['hours_studied_binned'], data['pass_exam'])\n",
    "\n",
    "print(f\"Mutual Information: {mutual_info:.2f} bits\")"
   ]
  }
 ],
 "metadata": {
  "kernelspec": {
   "display_name": "mlgrind-env",
   "language": "python",
   "name": "python3"
  },
  "language_info": {
   "codemirror_mode": {
    "name": "ipython",
    "version": 3
   },
   "file_extension": ".py",
   "mimetype": "text/x-python",
   "name": "python",
   "nbconvert_exporter": "python",
   "pygments_lexer": "ipython3",
   "version": "3.12.3"
  }
 },
 "nbformat": 4,
 "nbformat_minor": 2
}
